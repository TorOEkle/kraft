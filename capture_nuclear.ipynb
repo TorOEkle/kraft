{
 "cells": [
  {
   "cell_type": "code",
   "execution_count": 43,
   "metadata": {},
   "outputs": [],
   "source": [
    "import pandas as pd"
   ]
  },
  {
   "cell_type": "code",
   "execution_count": 44,
   "metadata": {},
   "outputs": [],
   "source": [
    "df_15 = pd.read_csv('no2_2015.csv')\n",
    "df_16 = pd.read_csv('no2_2016.csv')\n",
    "df_17 = pd.read_csv('no2_2017.csv')\n",
    "df_18 = pd.read_csv('no2_2018.csv')\n",
    "df_19 = pd.read_csv('no2_2019.csv')\n",
    "df_20 = pd.read_csv('no2_2020.csv')\n",
    "df_21 = pd.read_csv('no2_2021.csv')\n",
    "df_22 = pd.read_csv('no2_2022.csv')\n",
    "pdList = [df_15, df_16, df_17, df_18, df_19, df_20, df_21, df_22 ]\n",
    "df = pd.concat(pdList)\n",
    "df = df.reset_index().drop('index', axis = 1)\n",
    "df['date'] =  df['MTU (UTC)'].str[:16]\n",
    "df = df.rename(columns={'Day-ahead Price [EUR/MWh]':'price_no2'})[['date','price_no2']]\n",
    "df['date'] = pd.to_datetime(df['date'], format='%d.%m.%Y %H:%M')"
   ]
  },
  {
   "cell_type": "code",
   "execution_count": 45,
   "metadata": {},
   "outputs": [
    {
     "data": {
      "text/html": [
       "<div>\n",
       "<style scoped>\n",
       "    .dataframe tbody tr th:only-of-type {\n",
       "        vertical-align: middle;\n",
       "    }\n",
       "\n",
       "    .dataframe tbody tr th {\n",
       "        vertical-align: top;\n",
       "    }\n",
       "\n",
       "    .dataframe thead th {\n",
       "        text-align: right;\n",
       "    }\n",
       "</style>\n",
       "<table border=\"1\" class=\"dataframe\">\n",
       "  <thead>\n",
       "    <tr style=\"text-align: right;\">\n",
       "      <th></th>\n",
       "      <th>year</th>\n",
       "      <th>mean_price_no2</th>\n",
       "      <th>capture_nuclear</th>\n",
       "      <th>moving_average</th>\n",
       "    </tr>\n",
       "  </thead>\n",
       "  <tbody>\n",
       "    <tr>\n",
       "      <th>0</th>\n",
       "      <td>2015</td>\n",
       "      <td>19.822256</td>\n",
       "      <td>21.062201</td>\n",
       "      <td>8.662751</td>\n",
       "    </tr>\n",
       "    <tr>\n",
       "      <th>1</th>\n",
       "      <td>2016</td>\n",
       "      <td>25.151584</td>\n",
       "      <td>25.991791</td>\n",
       "      <td>17.589715</td>\n",
       "    </tr>\n",
       "    <tr>\n",
       "      <th>2</th>\n",
       "      <td>2017</td>\n",
       "      <td>28.831518</td>\n",
       "      <td>29.405909</td>\n",
       "      <td>23.661998</td>\n",
       "    </tr>\n",
       "    <tr>\n",
       "      <th>3</th>\n",
       "      <td>2018</td>\n",
       "      <td>43.252344</td>\n",
       "      <td>44.660657</td>\n",
       "      <td>30.577523</td>\n",
       "    </tr>\n",
       "    <tr>\n",
       "      <th>4</th>\n",
       "      <td>2019</td>\n",
       "      <td>39.264231</td>\n",
       "      <td>40.323860</td>\n",
       "      <td>29.727568</td>\n",
       "    </tr>\n",
       "    <tr>\n",
       "      <th>5</th>\n",
       "      <td>2020</td>\n",
       "      <td>9.290370</td>\n",
       "      <td>10.172486</td>\n",
       "      <td>1.351324</td>\n",
       "    </tr>\n",
       "    <tr>\n",
       "      <th>6</th>\n",
       "      <td>2021</td>\n",
       "      <td>75.107840</td>\n",
       "      <td>81.389930</td>\n",
       "      <td>18.569030</td>\n",
       "    </tr>\n",
       "    <tr>\n",
       "      <th>7</th>\n",
       "      <td>2022</td>\n",
       "      <td>211.277426</td>\n",
       "      <td>225.030545</td>\n",
       "      <td>87.499349</td>\n",
       "    </tr>\n",
       "  </tbody>\n",
       "</table>\n",
       "</div>"
      ],
      "text/plain": [
       "   year  mean_price_no2  capture_nuclear  moving_average\n",
       "0  2015       19.822256        21.062201        8.662751\n",
       "1  2016       25.151584        25.991791       17.589715\n",
       "2  2017       28.831518        29.405909       23.661998\n",
       "3  2018       43.252344        44.660657       30.577523\n",
       "4  2019       39.264231        40.323860       29.727568\n",
       "5  2020        9.290370        10.172486        1.351324\n",
       "6  2021       75.107840        81.389930       18.569030\n",
       "7  2022      211.277426       225.030545       87.499349"
      ]
     },
     "execution_count": 45,
     "metadata": {},
     "output_type": "execute_result"
    }
   ],
   "source": [
    "## Make year as a column\n",
    "df['year'] = df['date'].dt.year\n",
    "# Find mowing average with window size = 876\n",
    "df['moving_average'] = df['price_no2'].rolling(window=876).mean()\n",
    "#find mean of each year\n",
    "df_mean = df.groupby('year').mean('price_no2')\n",
    "df_mean = df_mean.reset_index()[['year','price_no2']]\n",
    "df_moving = df.groupby('year').min('moving_average').reset_index()[['year','moving_average']]\n",
    "#merge two dataframes\n",
    "df2 = pd.merge(df_mean, df_moving, on='year')\n",
    "# Make a new column \"capture_nuclear\" with formula (price_no2 - moving_average*0.1)/0.9\n",
    "df2['capture_nuclear'] = (df2['price_no2'] - df2['moving_average']*0.1)/0.9\n",
    "# rename price_no2 to mean_price_no2\n",
    "df2 = df2.rename(columns={'price_no2':'mean_price_no2'})\n",
    "df2[['year','mean_price_no2','capture_nuclear','moving_average']]"
   ]
  },
  {
   "cell_type": "code",
   "execution_count": 46,
   "metadata": {},
   "outputs": [
    {
     "name": "stdout",
     "output_type": "stream",
     "text": [
      "Mean price NO2 2023 until 22th of may 100.45, capture rate of nuclear 102.32\n"
     ]
    }
   ],
   "source": [
    "## year to date 2023\n",
    "df = pd.read_csv('no2_2023.csv')\n",
    "df['date'] =  df['MTU (CET/CEST)'].str[:16]\n",
    "df = df.rename(columns={'Day-ahead Price [EUR/MWh]':'price_no2'})[['date','price_no2']]\n",
    "df['date'] = pd.to_datetime(df['date'], format='%d.%m.%Y %H:%M')\n",
    "# Remove rows where \"price_no2\" equal -\n",
    "df = df[df['price_no2'] != '-']\n",
    "df['price_no2'] = df['price_no2'].astype(float)\n",
    "# Find moving average with window size = 10% * hours to date\n",
    "n = round(df.shape[0]*0.1,0)\n",
    "df['moving_average'] = df['price_no2'].rolling(window=876).mean()\n",
    "min_moving_average = df['moving_average'].min()\n",
    "print(f'''Mean price NO2 2023 until 22th of may {round(df['price_no2'].mean(),2)}, capture rate of nuclear {round((df['price_no2'].mean() - min_moving_average*0.1)/0.9,2)}''')"
   ]
  }
 ],
 "metadata": {
  "kernelspec": {
   "display_name": "Python 3",
   "language": "python",
   "name": "python3"
  },
  "language_info": {
   "codemirror_mode": {
    "name": "ipython",
    "version": 3
   },
   "file_extension": ".py",
   "mimetype": "text/x-python",
   "name": "python",
   "nbconvert_exporter": "python",
   "pygments_lexer": "ipython3",
   "version": "3.11.0"
  },
  "orig_nbformat": 4
 },
 "nbformat": 4,
 "nbformat_minor": 2
}
